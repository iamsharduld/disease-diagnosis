{
 "cells": [
  {
   "cell_type": "code",
   "execution_count": 6,
   "metadata": {},
   "outputs": [],
   "source": [
    "from sklearn.linear_model import LogisticRegression\n",
    "import numpy as np\n",
    "from sklearn.discriminant_analysis import LinearDiscriminantAnalysis\n",
    "from sklearn.neighbors import KNeighborsClassifier\n",
    "from sklearn.naive_bayes import GaussianNB\n",
    "from sklearn.tree import DecisionTreeClassifier\n",
    "from sklearn.svm import SVC\n",
    "\n",
    "from sklearn.ensemble import RandomForestClassifier\n",
    "\n",
    "\n",
    "from sklearn.model_selection import train_test_split\n",
    "from sklearn.metrics import accuracy_score\n",
    "from sklearn.metrics import confusion_matrix\n",
    "\n",
    "from sklearn.model_selection import cross_val_score\n",
    "\n",
    "import pandas as pd\n",
    "\n",
    "from sklearn import preprocessing\n",
    "\n",
    "from sklearn import tree \n",
    "from sklearn.tree import export_graphviz\n",
    "from sklearn.model_selection import cross_val_score\n",
    "from IPython.display import Image"
   ]
  },
  {
   "cell_type": "code",
   "execution_count": 68,
   "metadata": {},
   "outputs": [
    {
     "ename": "ValueError",
     "evalue": "could not convert string to float: 'Acute appendicitis'",
     "output_type": "error",
     "traceback": [
      "\u001b[0;31m---------------------------------------------------------------------------\u001b[0m",
      "\u001b[0;31mValueError\u001b[0m                                Traceback (most recent call last)",
      "\u001b[0;32m<ipython-input-68-7adefbacb06c>\u001b[0m in \u001b[0;36m<module>\u001b[0;34m\u001b[0m\n\u001b[1;32m     10\u001b[0m \u001b[0mmodel\u001b[0m \u001b[0;34m=\u001b[0m \u001b[0mDecisionTreeRegressor\u001b[0m\u001b[0;34m(\u001b[0m\u001b[0;34m)\u001b[0m\u001b[0;34m\u001b[0m\u001b[0;34m\u001b[0m\u001b[0m\n\u001b[1;32m     11\u001b[0m \u001b[0;31m# fit the model\u001b[0m\u001b[0;34m\u001b[0m\u001b[0;34m\u001b[0m\u001b[0;34m\u001b[0m\u001b[0m\n\u001b[0;32m---> 12\u001b[0;31m \u001b[0mmodel\u001b[0m\u001b[0;34m.\u001b[0m\u001b[0mfit\u001b[0m\u001b[0;34m(\u001b[0m\u001b[0mX\u001b[0m\u001b[0;34m,\u001b[0m \u001b[0my\u001b[0m\u001b[0;34m)\u001b[0m\u001b[0;34m\u001b[0m\u001b[0;34m\u001b[0m\u001b[0m\n\u001b[0m\u001b[1;32m     13\u001b[0m \u001b[0;31m# get importance\u001b[0m\u001b[0;34m\u001b[0m\u001b[0;34m\u001b[0m\u001b[0;34m\u001b[0m\u001b[0m\n\u001b[1;32m     14\u001b[0m \u001b[0mimportance\u001b[0m \u001b[0;34m=\u001b[0m \u001b[0mmodel\u001b[0m\u001b[0;34m.\u001b[0m\u001b[0mfeature_importances_\u001b[0m\u001b[0;34m\u001b[0m\u001b[0;34m\u001b[0m\u001b[0m\n",
      "\u001b[0;32m/opt/anaconda3/lib/python3.7/site-packages/sklearn/tree/_classes.py\u001b[0m in \u001b[0;36mfit\u001b[0;34m(self, X, y, sample_weight, check_input, X_idx_sorted)\u001b[0m\n\u001b[1;32m   1223\u001b[0m             \u001b[0msample_weight\u001b[0m\u001b[0;34m=\u001b[0m\u001b[0msample_weight\u001b[0m\u001b[0;34m,\u001b[0m\u001b[0;34m\u001b[0m\u001b[0;34m\u001b[0m\u001b[0m\n\u001b[1;32m   1224\u001b[0m             \u001b[0mcheck_input\u001b[0m\u001b[0;34m=\u001b[0m\u001b[0mcheck_input\u001b[0m\u001b[0;34m,\u001b[0m\u001b[0;34m\u001b[0m\u001b[0;34m\u001b[0m\u001b[0m\n\u001b[0;32m-> 1225\u001b[0;31m             X_idx_sorted=X_idx_sorted)\n\u001b[0m\u001b[1;32m   1226\u001b[0m         \u001b[0;32mreturn\u001b[0m \u001b[0mself\u001b[0m\u001b[0;34m\u001b[0m\u001b[0;34m\u001b[0m\u001b[0m\n\u001b[1;32m   1227\u001b[0m \u001b[0;34m\u001b[0m\u001b[0m\n",
      "\u001b[0;32m/opt/anaconda3/lib/python3.7/site-packages/sklearn/tree/_classes.py\u001b[0m in \u001b[0;36mfit\u001b[0;34m(self, X, y, sample_weight, check_input, X_idx_sorted)\u001b[0m\n\u001b[1;32m    195\u001b[0m \u001b[0;34m\u001b[0m\u001b[0m\n\u001b[1;32m    196\u001b[0m         \u001b[0;32mif\u001b[0m \u001b[0mgetattr\u001b[0m\u001b[0;34m(\u001b[0m\u001b[0my\u001b[0m\u001b[0;34m,\u001b[0m \u001b[0;34m\"dtype\"\u001b[0m\u001b[0;34m,\u001b[0m \u001b[0;32mNone\u001b[0m\u001b[0;34m)\u001b[0m \u001b[0;34m!=\u001b[0m \u001b[0mDOUBLE\u001b[0m \u001b[0;32mor\u001b[0m \u001b[0;32mnot\u001b[0m \u001b[0my\u001b[0m\u001b[0;34m.\u001b[0m\u001b[0mflags\u001b[0m\u001b[0;34m.\u001b[0m\u001b[0mcontiguous\u001b[0m\u001b[0;34m:\u001b[0m\u001b[0;34m\u001b[0m\u001b[0;34m\u001b[0m\u001b[0m\n\u001b[0;32m--> 197\u001b[0;31m             \u001b[0my\u001b[0m \u001b[0;34m=\u001b[0m \u001b[0mnp\u001b[0m\u001b[0;34m.\u001b[0m\u001b[0mascontiguousarray\u001b[0m\u001b[0;34m(\u001b[0m\u001b[0my\u001b[0m\u001b[0;34m,\u001b[0m \u001b[0mdtype\u001b[0m\u001b[0;34m=\u001b[0m\u001b[0mDOUBLE\u001b[0m\u001b[0;34m)\u001b[0m\u001b[0;34m\u001b[0m\u001b[0;34m\u001b[0m\u001b[0m\n\u001b[0m\u001b[1;32m    198\u001b[0m \u001b[0;34m\u001b[0m\u001b[0m\n\u001b[1;32m    199\u001b[0m         \u001b[0;31m# Check parameters\u001b[0m\u001b[0;34m\u001b[0m\u001b[0;34m\u001b[0m\u001b[0;34m\u001b[0m\u001b[0m\n",
      "\u001b[0;32m/opt/anaconda3/lib/python3.7/site-packages/numpy/core/_asarray.py\u001b[0m in \u001b[0;36mascontiguousarray\u001b[0;34m(a, dtype)\u001b[0m\n\u001b[1;32m    177\u001b[0m \u001b[0;34m\u001b[0m\u001b[0m\n\u001b[1;32m    178\u001b[0m     \"\"\"\n\u001b[0;32m--> 179\u001b[0;31m     \u001b[0;32mreturn\u001b[0m \u001b[0marray\u001b[0m\u001b[0;34m(\u001b[0m\u001b[0ma\u001b[0m\u001b[0;34m,\u001b[0m \u001b[0mdtype\u001b[0m\u001b[0;34m,\u001b[0m \u001b[0mcopy\u001b[0m\u001b[0;34m=\u001b[0m\u001b[0;32mFalse\u001b[0m\u001b[0;34m,\u001b[0m \u001b[0morder\u001b[0m\u001b[0;34m=\u001b[0m\u001b[0;34m'C'\u001b[0m\u001b[0;34m,\u001b[0m \u001b[0mndmin\u001b[0m\u001b[0;34m=\u001b[0m\u001b[0;36m1\u001b[0m\u001b[0;34m)\u001b[0m\u001b[0;34m\u001b[0m\u001b[0;34m\u001b[0m\u001b[0m\n\u001b[0m\u001b[1;32m    180\u001b[0m \u001b[0;34m\u001b[0m\u001b[0m\n\u001b[1;32m    181\u001b[0m \u001b[0;34m\u001b[0m\u001b[0m\n",
      "\u001b[0;31mValueError\u001b[0m: could not convert string to float: 'Acute appendicitis'"
     ]
    }
   ],
   "source": [
    "data = pd.read_csv('dataset/Code-F-binary-4krows-restructured.csv')\n",
    "data = data.drop(data.index[[0]])\n",
    "data\n",
    "# decision tree for feature importance on a regression problem\n",
    "from sklearn.datasets import make_regression\n",
    "from sklearn.tree import DecisionTreeRegressor\n",
    "from matplotlib import pyplot\n",
    "# define dataset\n",
    "# define the model\n",
    "model = DecisionTreeRegressor()\n",
    "# fit the model\n",
    "model.fit(X, y)\n",
    "# get importance\n",
    "importance = model.feature_importances_"
   ]
  },
  {
   "cell_type": "code",
   "execution_count": 9,
   "metadata": {},
   "outputs": [
    {
     "data": {
      "text/plain": [
       "Index(['Sex Female', 'Chills', 'Location -Localised or otherwise',\n",
       "       'Characteristic Sharp', 'Characteristic Colicky',\n",
       "       'Characteristic Burning', 'Characteristic Throbbing',\n",
       "       'Eating outside food', 'Started with spicy Food',\n",
       "       'Started with fatty meal', 'Started with Trauma',\n",
       "       'Started with Medicines like Diclofenac brufen erythromycin or Metrogyl',\n",
       "       'Started with Alcohol', 'Started Suddenly', 'Heartburn',\n",
       "       'Moves to upper abdomen on right side ',\n",
       "       'Moves to Lower abdomen on right side ', 'Moves to left',\n",
       "       'Moves to back ', 'Moves to Groin', 'Aggravated when one coughs',\n",
       "       'Relieved by Antacid', 'Appears IntermIttently',\n",
       "       'Limits movement/ normal breathing', 'Associated with loose motions',\n",
       "       'Associated with Constipation', 'Associated with Fever',\n",
       "       'Associated with distension', 'Associated with Jaundice',\n",
       "       'Associated with red urine', 'Associated with burning micturation',\n",
       "       'Associated with headache', 'Associated with periods',\n",
       "       'History of previous abdominal surgery', 'Past History Hernia',\n",
       "       'Past History regular Alcohol ingestion ',\n",
       "       'Past History other Medical illness like DM',\n",
       "       'Past History other Medical illnesses HTN',\n",
       "       'Past History other Medical illnesses TB', 'History of Trauma  ',\n",
       "       'Medicinal History', 'Missed period', 'Loss of weight',\n",
       "       'Loss of appetite', 'History of white discharge',\n",
       "       'Past History of Gall stone disease', 'Caries teeth', 'Mucus in stool',\n",
       "       'Blood and mucus in stool'],\n",
       "      dtype='object')"
      ]
     },
     "execution_count": 9,
     "metadata": {},
     "output_type": "execute_result"
    }
   ],
   "source": [
    "cols = data.columns\n",
    "cols = cols[:-1]\n",
    "len(cols)\n",
    "X = data[cols]\n",
    "y = data['0Symptoms list']\n",
    "cols"
   ]
  },
  {
   "cell_type": "code",
   "execution_count": 10,
   "metadata": {},
   "outputs": [
    {
     "data": {
      "text/html": [
       "<div>\n",
       "<style scoped>\n",
       "    .dataframe tbody tr th:only-of-type {\n",
       "        vertical-align: middle;\n",
       "    }\n",
       "\n",
       "    .dataframe tbody tr th {\n",
       "        vertical-align: top;\n",
       "    }\n",
       "\n",
       "    .dataframe thead th {\n",
       "        text-align: right;\n",
       "    }\n",
       "</style>\n",
       "<table border=\"1\" class=\"dataframe\">\n",
       "  <thead>\n",
       "    <tr style=\"text-align: right;\">\n",
       "      <th></th>\n",
       "      <th>Sex Female</th>\n",
       "      <th>Chills</th>\n",
       "      <th>Location -Localised or otherwise</th>\n",
       "      <th>Characteristic Sharp</th>\n",
       "      <th>Characteristic Colicky</th>\n",
       "      <th>Characteristic Burning</th>\n",
       "      <th>Characteristic Throbbing</th>\n",
       "      <th>Eating outside food</th>\n",
       "      <th>Started with spicy Food</th>\n",
       "      <th>Started with fatty meal</th>\n",
       "      <th>Started with Trauma</th>\n",
       "      <th>Started with Medicines like Diclofenac brufen erythromycin or Metrogyl</th>\n",
       "      <th>Started with Alcohol</th>\n",
       "      <th>Started Suddenly</th>\n",
       "      <th>Heartburn</th>\n",
       "      <th>Moves to upper abdomen on right side</th>\n",
       "      <th>Moves to Lower abdomen on right side</th>\n",
       "      <th>Moves to left</th>\n",
       "      <th>Moves to back</th>\n",
       "      <th>Moves to Groin</th>\n",
       "      <th>Aggravated when one coughs</th>\n",
       "      <th>Relieved by Antacid</th>\n",
       "      <th>Appears IntermIttently</th>\n",
       "      <th>Limits movement/ normal breathing</th>\n",
       "      <th>Associated with loose motions</th>\n",
       "      <th>Associated with Constipation</th>\n",
       "      <th>Associated with Fever</th>\n",
       "      <th>Associated with distension</th>\n",
       "      <th>Associated with Jaundice</th>\n",
       "      <th>Associated with red urine</th>\n",
       "      <th>Associated with burning micturation</th>\n",
       "      <th>Associated with headache</th>\n",
       "      <th>Associated with periods</th>\n",
       "      <th>History of previous abdominal surgery</th>\n",
       "      <th>Past History Hernia</th>\n",
       "      <th>Past History regular Alcohol ingestion</th>\n",
       "      <th>Past History other Medical illness like DM</th>\n",
       "      <th>Past History other Medical illnesses HTN</th>\n",
       "      <th>Past History other Medical illnesses TB</th>\n",
       "      <th>History of Trauma</th>\n",
       "      <th>Medicinal History</th>\n",
       "      <th>Missed period</th>\n",
       "      <th>Loss of weight</th>\n",
       "      <th>Loss of appetite</th>\n",
       "      <th>History of white discharge</th>\n",
       "      <th>Past History of Gall stone disease</th>\n",
       "      <th>Caries teeth</th>\n",
       "      <th>Mucus in stool</th>\n",
       "      <th>Blood and mucus in stool</th>\n",
       "      <th>0Symptoms list</th>\n",
       "    </tr>\n",
       "  </thead>\n",
       "  <tbody>\n",
       "    <tr>\n",
       "      <th>1</th>\n",
       "      <td>0</td>\n",
       "      <td>0</td>\n",
       "      <td>1</td>\n",
       "      <td>1</td>\n",
       "      <td>0</td>\n",
       "      <td>0</td>\n",
       "      <td>0</td>\n",
       "      <td>0</td>\n",
       "      <td>0</td>\n",
       "      <td>0</td>\n",
       "      <td>0</td>\n",
       "      <td>0</td>\n",
       "      <td>0</td>\n",
       "      <td>1</td>\n",
       "      <td>0</td>\n",
       "      <td>0</td>\n",
       "      <td>1</td>\n",
       "      <td>0</td>\n",
       "      <td>0</td>\n",
       "      <td>0</td>\n",
       "      <td>1</td>\n",
       "      <td>0</td>\n",
       "      <td>0</td>\n",
       "      <td>1</td>\n",
       "      <td>1</td>\n",
       "      <td>0</td>\n",
       "      <td>1</td>\n",
       "      <td>0</td>\n",
       "      <td>0</td>\n",
       "      <td>0</td>\n",
       "      <td>0</td>\n",
       "      <td>0</td>\n",
       "      <td>0</td>\n",
       "      <td>0</td>\n",
       "      <td>0</td>\n",
       "      <td>0</td>\n",
       "      <td>0</td>\n",
       "      <td>0</td>\n",
       "      <td>0</td>\n",
       "      <td>0</td>\n",
       "      <td>0</td>\n",
       "      <td>0</td>\n",
       "      <td>0</td>\n",
       "      <td>0</td>\n",
       "      <td>0</td>\n",
       "      <td>0</td>\n",
       "      <td>0</td>\n",
       "      <td>0</td>\n",
       "      <td>0</td>\n",
       "      <td>Acute appendicitis</td>\n",
       "    </tr>\n",
       "    <tr>\n",
       "      <th>2</th>\n",
       "      <td>0</td>\n",
       "      <td>0</td>\n",
       "      <td>1</td>\n",
       "      <td>1</td>\n",
       "      <td>0</td>\n",
       "      <td>0</td>\n",
       "      <td>0</td>\n",
       "      <td>0</td>\n",
       "      <td>0</td>\n",
       "      <td>0</td>\n",
       "      <td>0</td>\n",
       "      <td>0</td>\n",
       "      <td>0</td>\n",
       "      <td>1</td>\n",
       "      <td>0</td>\n",
       "      <td>0</td>\n",
       "      <td>1</td>\n",
       "      <td>0</td>\n",
       "      <td>0</td>\n",
       "      <td>0</td>\n",
       "      <td>1</td>\n",
       "      <td>0</td>\n",
       "      <td>0</td>\n",
       "      <td>1</td>\n",
       "      <td>1</td>\n",
       "      <td>0</td>\n",
       "      <td>1</td>\n",
       "      <td>0</td>\n",
       "      <td>0</td>\n",
       "      <td>0</td>\n",
       "      <td>0</td>\n",
       "      <td>0</td>\n",
       "      <td>0</td>\n",
       "      <td>0</td>\n",
       "      <td>0</td>\n",
       "      <td>0</td>\n",
       "      <td>0</td>\n",
       "      <td>0</td>\n",
       "      <td>0</td>\n",
       "      <td>0</td>\n",
       "      <td>0</td>\n",
       "      <td>0</td>\n",
       "      <td>0</td>\n",
       "      <td>0</td>\n",
       "      <td>0</td>\n",
       "      <td>0</td>\n",
       "      <td>0</td>\n",
       "      <td>0</td>\n",
       "      <td>0</td>\n",
       "      <td>Acute appendicitis</td>\n",
       "    </tr>\n",
       "    <tr>\n",
       "      <th>3</th>\n",
       "      <td>0</td>\n",
       "      <td>0</td>\n",
       "      <td>1</td>\n",
       "      <td>1</td>\n",
       "      <td>0</td>\n",
       "      <td>0</td>\n",
       "      <td>0</td>\n",
       "      <td>0</td>\n",
       "      <td>0</td>\n",
       "      <td>0</td>\n",
       "      <td>0</td>\n",
       "      <td>0</td>\n",
       "      <td>0</td>\n",
       "      <td>1</td>\n",
       "      <td>0</td>\n",
       "      <td>0</td>\n",
       "      <td>1</td>\n",
       "      <td>0</td>\n",
       "      <td>0</td>\n",
       "      <td>0</td>\n",
       "      <td>1</td>\n",
       "      <td>0</td>\n",
       "      <td>0</td>\n",
       "      <td>1</td>\n",
       "      <td>1</td>\n",
       "      <td>0</td>\n",
       "      <td>1</td>\n",
       "      <td>0</td>\n",
       "      <td>0</td>\n",
       "      <td>0</td>\n",
       "      <td>0</td>\n",
       "      <td>0</td>\n",
       "      <td>0</td>\n",
       "      <td>0</td>\n",
       "      <td>0</td>\n",
       "      <td>0</td>\n",
       "      <td>0</td>\n",
       "      <td>0</td>\n",
       "      <td>0</td>\n",
       "      <td>0</td>\n",
       "      <td>0</td>\n",
       "      <td>0</td>\n",
       "      <td>0</td>\n",
       "      <td>0</td>\n",
       "      <td>0</td>\n",
       "      <td>0</td>\n",
       "      <td>0</td>\n",
       "      <td>0</td>\n",
       "      <td>0</td>\n",
       "      <td>Acute appendicitis</td>\n",
       "    </tr>\n",
       "    <tr>\n",
       "      <th>4</th>\n",
       "      <td>0</td>\n",
       "      <td>0</td>\n",
       "      <td>1</td>\n",
       "      <td>1</td>\n",
       "      <td>0</td>\n",
       "      <td>0</td>\n",
       "      <td>0</td>\n",
       "      <td>0</td>\n",
       "      <td>0</td>\n",
       "      <td>0</td>\n",
       "      <td>0</td>\n",
       "      <td>0</td>\n",
       "      <td>0</td>\n",
       "      <td>1</td>\n",
       "      <td>0</td>\n",
       "      <td>0</td>\n",
       "      <td>1</td>\n",
       "      <td>0</td>\n",
       "      <td>0</td>\n",
       "      <td>0</td>\n",
       "      <td>1</td>\n",
       "      <td>0</td>\n",
       "      <td>0</td>\n",
       "      <td>1</td>\n",
       "      <td>1</td>\n",
       "      <td>0</td>\n",
       "      <td>1</td>\n",
       "      <td>0</td>\n",
       "      <td>0</td>\n",
       "      <td>0</td>\n",
       "      <td>0</td>\n",
       "      <td>0</td>\n",
       "      <td>0</td>\n",
       "      <td>0</td>\n",
       "      <td>0</td>\n",
       "      <td>0</td>\n",
       "      <td>0</td>\n",
       "      <td>0</td>\n",
       "      <td>0</td>\n",
       "      <td>0</td>\n",
       "      <td>0</td>\n",
       "      <td>0</td>\n",
       "      <td>0</td>\n",
       "      <td>0</td>\n",
       "      <td>0</td>\n",
       "      <td>0</td>\n",
       "      <td>0</td>\n",
       "      <td>0</td>\n",
       "      <td>0</td>\n",
       "      <td>Acute appendicitis</td>\n",
       "    </tr>\n",
       "    <tr>\n",
       "      <th>5</th>\n",
       "      <td>0</td>\n",
       "      <td>0</td>\n",
       "      <td>1</td>\n",
       "      <td>1</td>\n",
       "      <td>0</td>\n",
       "      <td>0</td>\n",
       "      <td>0</td>\n",
       "      <td>0</td>\n",
       "      <td>0</td>\n",
       "      <td>0</td>\n",
       "      <td>0</td>\n",
       "      <td>0</td>\n",
       "      <td>0</td>\n",
       "      <td>1</td>\n",
       "      <td>0</td>\n",
       "      <td>0</td>\n",
       "      <td>1</td>\n",
       "      <td>0</td>\n",
       "      <td>0</td>\n",
       "      <td>0</td>\n",
       "      <td>1</td>\n",
       "      <td>0</td>\n",
       "      <td>0</td>\n",
       "      <td>1</td>\n",
       "      <td>1</td>\n",
       "      <td>0</td>\n",
       "      <td>1</td>\n",
       "      <td>0</td>\n",
       "      <td>0</td>\n",
       "      <td>0</td>\n",
       "      <td>0</td>\n",
       "      <td>0</td>\n",
       "      <td>0</td>\n",
       "      <td>0</td>\n",
       "      <td>0</td>\n",
       "      <td>0</td>\n",
       "      <td>0</td>\n",
       "      <td>0</td>\n",
       "      <td>0</td>\n",
       "      <td>0</td>\n",
       "      <td>0</td>\n",
       "      <td>0</td>\n",
       "      <td>0</td>\n",
       "      <td>0</td>\n",
       "      <td>0</td>\n",
       "      <td>0</td>\n",
       "      <td>0</td>\n",
       "      <td>0</td>\n",
       "      <td>0</td>\n",
       "      <td>Acute appendicitis</td>\n",
       "    </tr>\n",
       "  </tbody>\n",
       "</table>\n",
       "</div>"
      ],
      "text/plain": [
       "  Sex Female Chills  ... Blood and mucus in stool      0Symptoms list\n",
       "1          0      0  ...                        0  Acute appendicitis\n",
       "2          0      0  ...                        0  Acute appendicitis\n",
       "3          0      0  ...                        0  Acute appendicitis\n",
       "4          0      0  ...                        0  Acute appendicitis\n",
       "5          0      0  ...                        0  Acute appendicitis\n",
       "\n",
       "[5 rows x 50 columns]"
      ]
     },
     "execution_count": 10,
     "metadata": {},
     "output_type": "execute_result"
    }
   ],
   "source": [
    "data.head(5)"
   ]
  },
  {
   "cell_type": "code",
   "execution_count": 11,
   "metadata": {},
   "outputs": [],
   "source": [
    "X_train, X_test, y_train, y_test = train_test_split(X, y, test_size=0.20, random_state=27)"
   ]
  },
  {
   "cell_type": "code",
   "execution_count": 12,
   "metadata": {},
   "outputs": [
    {
     "data": {
      "text/plain": [
       "DecisionTreeClassifier(ccp_alpha=0.0, class_weight=None, criterion='gini',\n",
       "                       max_depth=None, max_features=None, max_leaf_nodes=None,\n",
       "                       min_impurity_decrease=0.0, min_impurity_split=None,\n",
       "                       min_samples_leaf=1, min_samples_split=2,\n",
       "                       min_weight_fraction_leaf=0.0, presort='deprecated',\n",
       "                       random_state=None, splitter='best')"
      ]
     },
     "execution_count": 12,
     "metadata": {},
     "output_type": "execute_result"
    }
   ],
   "source": [
    "DecisionTreeClassifier_model = DecisionTreeClassifier()\n",
    "DecisionTreeClassifier_model.fit(X,y)"
   ]
  },
  {
   "cell_type": "code",
   "execution_count": null,
   "metadata": {},
   "outputs": [],
   "source": []
  },
  {
   "cell_type": "code",
   "execution_count": 15,
   "metadata": {},
   "outputs": [
    {
     "ename": "NameError",
     "evalue": "name 'feature_dict' is not defined",
     "output_type": "error",
     "traceback": [
      "\u001b[0;31m---------------------------------------------------------------------------\u001b[0m",
      "\u001b[0;31mNameError\u001b[0m                                 Traceback (most recent call last)",
      "\u001b[0;32m<ipython-input-15-44440bcdad19>\u001b[0m in \u001b[0;36m<module>\u001b[0;34m\u001b[0m\n\u001b[0;32m----> 1\u001b[0;31m \u001b[0mmulti\u001b[0m \u001b[0;34m=\u001b[0m \u001b[0;34m[\u001b[0m\u001b[0mfeature_dict\u001b[0m\u001b[0;34m[\u001b[0m\u001b[0;34m'History of previous abdominal surgery'\u001b[0m\u001b[0;34m]\u001b[0m\u001b[0;34m]\u001b[0m\u001b[0;34m\u001b[0m\u001b[0;34m\u001b[0m\u001b[0m\n\u001b[0m\u001b[1;32m      2\u001b[0m \u001b[0msample_x\u001b[0m \u001b[0;34m=\u001b[0m \u001b[0;34m[\u001b[0m\u001b[0;36m1.0\u001b[0m \u001b[0;32mif\u001b[0m \u001b[0mi\u001b[0m \u001b[0;32min\u001b[0m \u001b[0mmulti\u001b[0m \u001b[0;32melse\u001b[0m \u001b[0;36m0\u001b[0m\u001b[0;34m*\u001b[0m\u001b[0mi\u001b[0m \u001b[0;32mfor\u001b[0m \u001b[0mi\u001b[0m \u001b[0;32min\u001b[0m \u001b[0mrange\u001b[0m\u001b[0;34m(\u001b[0m\u001b[0mlen\u001b[0m\u001b[0;34m(\u001b[0m\u001b[0mfeatures\u001b[0m\u001b[0;34m)\u001b[0m\u001b[0;34m)\u001b[0m\u001b[0;34m]\u001b[0m\u001b[0;34m\u001b[0m\u001b[0;34m\u001b[0m\u001b[0m\n\u001b[1;32m      3\u001b[0m \u001b[0msample_x\u001b[0m \u001b[0;34m=\u001b[0m \u001b[0mnp\u001b[0m\u001b[0;34m.\u001b[0m\u001b[0marray\u001b[0m\u001b[0;34m(\u001b[0m\u001b[0msample_x\u001b[0m\u001b[0;34m)\u001b[0m\u001b[0;34m.\u001b[0m\u001b[0mreshape\u001b[0m\u001b[0;34m(\u001b[0m\u001b[0;36m1\u001b[0m\u001b[0;34m,\u001b[0m\u001b[0mlen\u001b[0m\u001b[0;34m(\u001b[0m\u001b[0msample_x\u001b[0m\u001b[0;34m)\u001b[0m\u001b[0;34m)\u001b[0m\u001b[0;34m\u001b[0m\u001b[0;34m\u001b[0m\u001b[0m\n\u001b[1;32m      4\u001b[0m \u001b[0mRandomForestClassifier_model\u001b[0m\u001b[0;34m.\u001b[0m\u001b[0mpredict\u001b[0m\u001b[0;34m(\u001b[0m\u001b[0msample_x\u001b[0m\u001b[0;34m)\u001b[0m\u001b[0;34m\u001b[0m\u001b[0;34m\u001b[0m\u001b[0m\n",
      "\u001b[0;31mNameError\u001b[0m: name 'feature_dict' is not defined"
     ]
    }
   ],
   "source": [
    "multi = [feature_dict['History of previous abdominal surgery']]\n",
    "sample_x = [1.0 if i in multi else 0*i for i in range(len(features))]\n",
    "sample_x = np.array(sample_x).reshape(1,len(sample_x))\n",
    "RandomForestClassifier_model.predict(sample_x)"
   ]
  },
  {
   "cell_type": "code",
   "execution_count": 16,
   "metadata": {},
   "outputs": [],
   "source": [
    "DecisionTreeClassifier_prediction = DecisionTreeClassifier_model.predict(X_test)\n",
    "# scores = cross_val_score(DecisionTreeClassifier_model, X, y, cv=3)"
   ]
  },
  {
   "cell_type": "code",
   "execution_count": 17,
   "metadata": {},
   "outputs": [
    {
     "ename": "NameError",
     "evalue": "name 'scores' is not defined",
     "output_type": "error",
     "traceback": [
      "\u001b[0;31m---------------------------------------------------------------------------\u001b[0m",
      "\u001b[0;31mNameError\u001b[0m                                 Traceback (most recent call last)",
      "\u001b[0;32m<ipython-input-17-2d94476f7a60>\u001b[0m in \u001b[0;36m<module>\u001b[0;34m\u001b[0m\n\u001b[0;32m----> 1\u001b[0;31m \u001b[0mscores\u001b[0m\u001b[0;34m.\u001b[0m\u001b[0mmean\u001b[0m\u001b[0;34m(\u001b[0m\u001b[0;34m)\u001b[0m\u001b[0;34m\u001b[0m\u001b[0;34m\u001b[0m\u001b[0m\n\u001b[0m",
      "\u001b[0;31mNameError\u001b[0m: name 'scores' is not defined"
     ]
    }
   ],
   "source": [
    "scores.mean()"
   ]
  },
  {
   "cell_type": "code",
   "execution_count": 18,
   "metadata": {},
   "outputs": [
    {
     "name": "stdout",
     "output_type": "stream",
     "text": [
      "1. feature 21 - Relieved by Antacid (0.220150)\n",
      "2. feature 40 - Medicinal History (0.143575)\n",
      "3. feature 31 - Associated with headache (0.114591)\n",
      "4. feature 27 - Associated with distension (0.103201)\n",
      "5. feature 42 - Loss of weight (0.074217)\n",
      "6. feature 2 - Location -Localised or otherwise (0.056156)\n",
      "7. feature 12 - Started with Alcohol (0.053621)\n",
      "8. feature 18 - Moves to back  (0.052644)\n",
      "9. feature 17 - Moves to left (0.034773)\n",
      "10. feature 6 - Characteristic Throbbing (0.027615)\n"
     ]
    }
   ],
   "source": [
    "from sklearn import tree \n",
    "from sklearn.tree import export_graphviz\n",
    "\n",
    "# export_graphviz(DecisionTreeClassifier_model, \n",
    "#                 out_file='DOT-files/tree.dot', \n",
    "#                 feature_names=cols)\n",
    "\n",
    "importances = DecisionTreeClassifier_model.feature_importances_\n",
    "indices = np.argsort(importances)[::-1]\n",
    "features = cols\n",
    "for f in range(10):\n",
    "    print(\"%d. feature %d - %s (%f)\" % (f + 1, indices[f], features[indices[f]] ,importances[indices[f]]))"
   ]
  },
  {
   "cell_type": "code",
   "execution_count": 19,
   "metadata": {},
   "outputs": [
    {
     "name": "stdout",
     "output_type": "stream",
     "text": [
      "{'Sex Female': 0, 'Chills': 1, 'Location -Localised or otherwise': 2, 'Characteristic Sharp': 3, 'Characteristic Colicky': 4, 'Characteristic Burning': 5, 'Characteristic Throbbing': 6, 'Eating outside food': 7, 'Started with spicy Food': 8, 'Started with fatty meal': 9, 'Started with Trauma': 10, 'Started with Medicines like Diclofenac brufen erythromycin or Metrogyl': 11, 'Started with Alcohol': 12, 'Started Suddenly': 13, 'Heartburn': 14, 'Moves to upper abdomen on right side ': 15, 'Moves to Lower abdomen on right side ': 16, 'Moves to left': 17, 'Moves to back ': 18, 'Moves to Groin': 19, 'Aggravated when one coughs': 20, 'Relieved by Antacid': 21, 'Appears IntermIttently': 22, 'Limits movement/ normal breathing': 23, 'Associated with loose motions': 24, 'Associated with Constipation': 25, 'Associated with Fever': 26, 'Associated with distension': 27, 'Associated with Jaundice': 28, 'Associated with red urine': 29, 'Associated with burning micturation': 30, 'Associated with headache': 31, 'Associated with periods': 32, 'History of previous abdominal surgery': 33, 'Past History Hernia': 34, 'Past History regular Alcohol ingestion ': 35, 'Past History other Medical illness like DM': 36, 'Past History other Medical illnesses HTN': 37, 'Past History other Medical illnesses TB': 38, 'History of Trauma  ': 39, 'Medicinal History': 40, 'Missed period': 41, 'Loss of weight': 42, 'Loss of appetite': 43, 'History of white discharge': 44, 'Past History of Gall stone disease': 45, 'Caries teeth': 46, 'Mucus in stool': 47, 'Blood and mucus in stool': 48}\n"
     ]
    }
   ],
   "source": [
    "feature_dict = {}\n",
    "for i,f in enumerate(features):\n",
    "    feature_dict[f] = i\n",
    "print(feature_dict)\n",
    "multi = [feature_dict['Associated with Constipation'], feature_dict['History of previous abdominal surgery'], feature_dict['Associated with distension']]\n",
    "multi2 = [feature_dict['Location -Localised or otherwise'], feature_dict['Characteristic Burning']]\n",
    "multi3 = [feature_dict['Location -Localised or otherwise'], feature_dict['Characteristic Burning'], feature_dict['Started Suddenly']]"
   ]
  },
  {
   "cell_type": "code",
   "execution_count": 20,
   "metadata": {},
   "outputs": [],
   "source": [
    "sample_x = [1.0 if i in multi2 else 0*i for i in range(len(features))]"
   ]
  },
  {
   "cell_type": "code",
   "execution_count": 21,
   "metadata": {},
   "outputs": [
    {
     "name": "stdout",
     "output_type": "stream",
     "text": [
      "[0, 0, 1.0, 0, 0, 1.0, 0, 0, 0, 0, 0, 0, 0, 0, 0, 0, 0, 0, 0, 0, 0, 0, 0, 0, 0, 0, 0, 0, 0, 0, 0, 0, 0, 0, 0, 0, 0, 0, 0, 0, 0, 0, 0, 0, 0, 0, 0, 0, 0]\n"
     ]
    }
   ],
   "source": [
    "print(sample_x)"
   ]
  },
  {
   "cell_type": "code",
   "execution_count": 22,
   "metadata": {},
   "outputs": [
    {
     "name": "stdout",
     "output_type": "stream",
     "text": [
      "[[0. 0. 1. 0. 0. 1. 0. 0. 0. 0. 0. 0. 0. 0. 0. 0. 0. 0. 0. 0. 0. 0. 0. 0.\n",
      "  0. 0. 0. 0. 0. 0. 0. 0. 0. 0. 0. 0. 0. 0. 0. 0. 0. 0. 0. 0. 0. 0. 0. 0.\n",
      "  0.]]\n"
     ]
    }
   ],
   "source": [
    "sample_x = np.array(sample_x).reshape(1,len(sample_x))\n",
    "print(sample_x)"
   ]
  },
  {
   "cell_type": "code",
   "execution_count": 23,
   "metadata": {},
   "outputs": [
    {
     "data": {
      "text/plain": [
       "array(['UTI'], dtype=object)"
      ]
     },
     "execution_count": 23,
     "metadata": {},
     "output_type": "execute_result"
    }
   ],
   "source": [
    "DecisionTreeClassifier_model.predict(sample_x)"
   ]
  },
  {
   "cell_type": "code",
   "execution_count": 24,
   "metadata": {},
   "outputs": [
    {
     "data": {
      "text/plain": [
       "array([[0., 0., 0., 0., 0., 0., 0., 0., 0., 0., 0., 0., 0., 0., 0., 0.,\n",
       "        0., 0., 0., 0., 0., 0., 0., 0., 0., 0., 0., 1., 0., 0.]])"
      ]
     },
     "execution_count": 24,
     "metadata": {},
     "output_type": "execute_result"
    }
   ],
   "source": [
    "DecisionTreeClassifier_model.predict_proba(sample_x)"
   ]
  },
  {
   "cell_type": "code",
   "execution_count": 25,
   "metadata": {},
   "outputs": [],
   "source": [
    "# Random Forest"
   ]
  },
  {
   "cell_type": "code",
   "execution_count": 26,
   "metadata": {},
   "outputs": [],
   "source": [
    "RandomForestClassifier_model = RandomForestClassifier(n_estimators=100)\n",
    "RandomForestClassifier_model.fit(X, y)\n",
    "feature_dict = {}\n",
    "for i,f in enumerate(features):\n",
    "    feature_dict[f] = i"
   ]
  },
  {
   "cell_type": "code",
   "execution_count": 61,
   "metadata": {},
   "outputs": [
    {
     "data": {
      "text/plain": [
       "array(['Acute gastritis '], dtype=object)"
      ]
     },
     "execution_count": 61,
     "metadata": {},
     "output_type": "execute_result"
    }
   ],
   "source": [
    "# multi = [feature_dict['Started Suddenly'], feature_dict['Moves to back '], feature_dict['Started with Medicines like Diclofenac brufen erythromycin or Metrogyl'], feature_dict['Started with Trauma'], feature_dict['Medicinal History']]\n",
    "# test = [feature_dict['Sex Female'], feature_dict['Chills'], feature_dict['Characteristic Burning'], feature_dict['Past History other Medical illness like DM'], feature_dict['Associated with burning micturation']]\n",
    "test1 = [feature_dict['Caries teeth'], feature_dict['Characteristic Burning'], feature_dict['Heartburn'], feature_dict['Associated with headache']]\n",
    "\n",
    "sample_x = [10.0 if i in test1 else 1.0 for i in range(len(features))]\n",
    "# print(sample_x)\n",
    "sample_x = np.array(sample_x).reshape(1,len(sample_x))\n",
    "# RandomForestClassifier_model.predict_proba(sample_x)\n",
    "RandomForestClassifier_model.predict(sample_x)"
   ]
  },
  {
   "cell_type": "code",
   "execution_count": 28,
   "metadata": {},
   "outputs": [
    {
     "name": "stdout",
     "output_type": "stream",
     "text": [
      "('Acute Exacerbation of DU', 0.12)\n",
      "('Acute Gastroenteritis', 0.05)\n",
      "('Acute Pancreatitis', 0.08)\n",
      "('Acute appendicitis', 0.01)\n",
      "('Acute cholangitis', 0.01)\n",
      "('Acute cholecystitis', 0.02)\n",
      "('Acute colonic Diverticulitis with perforation', 0.07)\n",
      "('Acute colonic diverticulitis', 0.0)\n",
      "('Acute gastritis ', 0.16)\n",
      "('Acute hepatitis', 0.0)\n",
      "('Amoebic Colitis', 0.0)\n",
      "('Aneurysm Dissecting ', 0.0)\n",
      "('Appendicular abscess', 0.03)\n",
      "('Appendicular mass', 0.0)\n",
      "('Choledocholithiasis / Biliary colic', 0.02)\n",
      "('Chronic Gastritis', 0.0)\n",
      "('Chronic Pancreatitis', 0.06)\n",
      "('Functional abdominal pain', 0.02)\n",
      "('GERD', 0.1)\n",
      "('Peptic Ulcer', 0.15)\n",
      "('Perforation Intestine small', 0.01)\n",
      "('Perforation gastric or duodenal ulcer', 0.06)\n",
      "('Pneumonia Basal', 0.0)\n",
      "('Prolapsed disc', 0.0)\n",
      "('Pyonephrosis', 0.01)\n",
      "('Renal calculus', 0.0)\n",
      "('Strangulated Hernia', 0.0)\n",
      "('UTI', 0.01)\n",
      "('Ureteric calculus', 0.01)\n",
      "('Vescicle calculus', 0.0)\n"
     ]
    }
   ],
   "source": [
    "# RandomForestClassifier_model.predict_proba(sample_x)\n",
    "x = zip(RandomForestClassifier_model.classes_, RandomForestClassifier_model.predict_proba(sample_x)[0])\n",
    "for i in x:\n",
    "    print(i)"
   ]
  },
  {
   "cell_type": "code",
   "execution_count": 65,
   "metadata": {},
   "outputs": [
    {
     "data": {
      "image/png": "[encoded data removed]",
      "text/plain": [
       "<Figure size 432x288 with 1 Axes>"
      ]
     },
     "metadata": {
      "needs_background": "light"
     },
     "output_type": "display_data"
    }
   ],
   "source": [
    "feat_importances = pd.Series(RandomForestClassifier_model.feature_importances_, index=X.columns)\n",
    "feat_importances.nlargest(15).plot(kind='barh')\n",
    "plt.show()"
   ]
  },
  {
   "cell_type": "code",
   "execution_count": 29,
   "metadata": {},
   "outputs": [],
   "source": [
    "# Naive Bayes"
   ]
  },
  {
   "cell_type": "code",
   "execution_count": 30,
   "metadata": {},
   "outputs": [],
   "source": [
    "GaussianNB_model = GaussianNB()\n",
    "GaussianNB_model.fit(X, y)\n",
    "# RandomForestClassifier_prediction = RandomForestClassifier_model.predict(X_test)\n",
    "# print(\"Random Forest: \", accuracy_score(RandomForestClassifier_prediction, y_test))\n",
    "feature_dict = {}\n",
    "for i,f in enumerate(features):\n",
    "    feature_dict[f] = i"
   ]
  },
  {
   "cell_type": "code",
   "execution_count": 31,
   "metadata": {},
   "outputs": [
    {
     "data": {
      "text/plain": [
       "array(['Chronic Gastritis'], dtype='<U45')"
      ]
     },
     "execution_count": 31,
     "metadata": {},
     "output_type": "execute_result"
    }
   ],
   "source": [
    "multi = [feature_dict['Started Suddenly'], feature_dict['Moves to back '], feature_dict['Started with Medicines like Diclofenac brufen erythromycin or Metrogyl'], feature_dict['Started with Trauma'], feature_dict['Medicinal History']]\n",
    "test = [feature_dict['Sex Female'], feature_dict['Chills'], feature_dict['Characteristic Burning']]\n",
    "sample_x = [1.0 if i in test else 0*i for i in range(len(features))]\n",
    "sample_x = np.array(sample_x).reshape(1,len(sample_x))\n",
    "GaussianNB_model.predict(sample_x)"
   ]
  },
  {
   "cell_type": "code",
   "execution_count": 32,
   "metadata": {},
   "outputs": [
    {
     "name": "stdout",
     "output_type": "stream",
     "text": [
      "('Acute Exacerbation of DU', 0.0)\n",
      "('Acute Gastroenteritis', 0.0)\n",
      "('Acute Pancreatitis', 0.0)\n",
      "('Acute appendicitis', 0.0)\n",
      "('Acute cholangitis', 0.0)\n",
      "('Acute cholecystitis', 0.0)\n",
      "('Acute colonic Diverticulitis with perforation', 0.0)\n",
      "('Acute colonic diverticulitis', 0.0)\n",
      "('Acute gastritis ', 0.0)\n",
      "('Acute hepatitis', 0.0)\n",
      "('Amoebic Colitis', 0.0)\n",
      "('Aneurysm Dissecting ', 0.0)\n",
      "('Appendicular abscess', 0.0)\n",
      "('Appendicular mass', 0.0)\n",
      "('Choledocholithiasis / Biliary colic', 0.0)\n",
      "('Chronic Gastritis', 0.9935125461952938)\n",
      "('Chronic Pancreatitis', 0.0)\n",
      "('Functional abdominal pain', 0.006487495320797396)\n",
      "('GERD', 0.0)\n",
      "('Peptic Ulcer', 0.0)\n",
      "('Perforation Intestine small', 0.0)\n",
      "('Perforation gastric or duodenal ulcer', 0.0)\n",
      "('Pneumonia Basal', 0.0)\n",
      "('Prolapsed disc', 0.0)\n",
      "('Pyonephrosis', 0.0)\n",
      "('Renal calculus', 0.0)\n",
      "('Strangulated Hernia', 0.0)\n",
      "('UTI', 0.0)\n",
      "('Ureteric calculus', 0.0)\n",
      "('Vescicle calculus', 0.0)\n"
     ]
    }
   ],
   "source": [
    "# RandomForestClassifier_model.predict_proba(sample_x)\n",
    "x = zip(GaussianNB_model.classes_, GaussianNB_model.predict_proba(sample_x)[0])\n",
    "for i in x:\n",
    "    print(i)"
   ]
  },
  {
   "cell_type": "code",
   "execution_count": 33,
   "metadata": {},
   "outputs": [],
   "source": [
    "LinearDiscriminantAnalysis_model = LinearDiscriminantAnalysis()\n",
    "LinearDiscriminantAnalysis_model.fit(X, y)\n",
    "# RandomForestClassifier_prediction = RandomForestClassifier_model.predict(X_test)\n",
    "# print(\"Random Forest: \", accuracy_score(RandomForestClassifier_prediction, y_test))\n",
    "feature_dict = {}\n",
    "for i,f in enumerate(features):\n",
    "    feature_dict[f] = i"
   ]
  },
  {
   "cell_type": "code",
   "execution_count": 34,
   "metadata": {},
   "outputs": [
    {
     "data": {
      "text/plain": [
       "array(['GERD'], dtype='<U45')"
      ]
     },
     "execution_count": 34,
     "metadata": {},
     "output_type": "execute_result"
    }
   ],
   "source": [
    "multi = [feature_dict['Started Suddenly'], feature_dict['Moves to back '], feature_dict['Started with Medicines like Diclofenac brufen erythromycin or Metrogyl'], feature_dict['Started with Trauma'], feature_dict['Medicinal History']]\n",
    "test = [feature_dict['Sex Female'], feature_dict['Chills'], feature_dict['Characteristic Burning']]\n",
    "sample_x = [1.0 if i in test else 0*i for i in range(len(features))]\n",
    "sample_x = np.array(sample_x).reshape(1,len(sample_x))\n",
    "LinearDiscriminantAnalysis_model.predict(sample_x)"
   ]
  },
  {
   "cell_type": "code",
   "execution_count": 35,
   "metadata": {},
   "outputs": [
    {
     "name": "stdout",
     "output_type": "stream",
     "text": [
      "('Acute Exacerbation of DU', 5.780087421437093e-132)\n",
      "('Acute Gastroenteritis', 0.0)\n",
      "('Acute Pancreatitis', 8.621230559662592e-246)\n",
      "('Acute appendicitis', 1.307955097929385e-186)\n",
      "('Acute cholangitis', 0.0)\n",
      "('Acute cholecystitis', 4.960631696092678e-196)\n",
      "('Acute colonic Diverticulitis with perforation', 1.5518791966651895e-220)\n",
      "('Acute colonic diverticulitis', 4.0840937158847567e-193)\n",
      "('Acute gastritis ', 2.879889818549084e-57)\n",
      "('Acute hepatitis', 1.3351022764194568e-140)\n",
      "('Amoebic Colitis', 3.1447609535925427e-115)\n",
      "('Aneurysm Dissecting ', 0.0)\n",
      "('Appendicular abscess', 1.5647932909301615e-125)\n",
      "('Appendicular mass', 1.5637653132984262e-117)\n",
      "('Choledocholithiasis / Biliary colic', 0.0)\n",
      "('Chronic Gastritis', 3.1862042644440945e-26)\n",
      "('Chronic Pancreatitis', 0.0)\n",
      "('Functional abdominal pain', 3.640722702626517e-33)\n",
      "('GERD', 1.0)\n",
      "('Peptic Ulcer', 6.190897272631837e-141)\n",
      "('Perforation Intestine small', 2.850858534675129e-211)\n",
      "('Perforation gastric or duodenal ulcer', 1.37904e-319)\n",
      "('Pneumonia Basal', 5.621568150192798e-98)\n",
      "('Prolapsed disc', 1.5106765251311154e-74)\n",
      "('Pyonephrosis', 1.1086702217309968e-50)\n",
      "('Renal calculus', 2.4456364936807798e-260)\n",
      "('Strangulated Hernia', 0.0)\n",
      "('UTI', 2.0165925747414566e-63)\n",
      "('Ureteric calculus', 0.0)\n",
      "('Vescicle calculus', 1.3230620129797254e-222)\n"
     ]
    }
   ],
   "source": [
    "x = zip(LinearDiscriminantAnalysis_model.classes_, LinearDiscriminantAnalysis_model.predict_proba(sample_x)[0])\n",
    "for i in x:\n",
    "    print(i)"
   ]
  },
  {
   "cell_type": "code",
   "execution_count": 66,
   "metadata": {},
   "outputs": [
    {
     "name": "stdout",
     "output_type": "stream",
     "text": [
      "                                       Symptom        Score\n",
      "48                    Blood and mucus in stool  8650.396937\n",
      "25                Associated with Constipation  5250.000000\n",
      "6                     Characteristic Throbbing  5042.000000\n",
      "42                              Loss of weight  4807.720000\n",
      "17                               Moves to left  4727.580247\n",
      "23           Limits movement/ normal breathing  4590.889952\n",
      "4                       Characteristic Colicky  4575.396371\n",
      "19                              Moves to Groin  4495.081967\n",
      "31                    Associated with headache  4418.000000\n",
      "15       Moves to upper abdomen on right side   4177.926829\n",
      "20                  Aggravated when one coughs  4170.595792\n",
      "40                           Medicinal History  4129.263538\n",
      "3                         Characteristic Sharp  3974.000000\n",
      "18                              Moves to back   3894.000000\n",
      "22                      Appears IntermIttently  3882.757895\n",
      "30         Associated with burning micturation  3657.972973\n",
      "21                         Relieved by Antacid  3438.000000\n",
      "26                       Associated with Fever  3301.438503\n",
      "43                            Loss of appetite  3209.973615\n",
      "5                       Characteristic Burning  3146.520635\n",
      "16       Moves to Lower abdomen on right side   2907.035821\n",
      "34                         Past History Hernia  2656.000000\n",
      "37    Past History other Medical illnesses HTN  2655.000000\n",
      "38     Past History other Medical illnesses TB  2643.000000\n",
      "39                         History of Trauma    2641.000000\n",
      "0                                   Sex Female  2625.000000\n",
      "46                                Caries teeth  2593.000000\n",
      "29                   Associated with red urine  2565.000000\n",
      "1                                       Chills  2409.000000\n",
      "36  Past History other Medical illness like DM  2341.000000\n",
      "27                  Associated with distension  2300.000000\n",
      "9                      Started with fatty meal  2298.757724\n",
      "10                         Started with Trauma  2273.000000\n",
      "2             Location -Localised or otherwise  2176.000000\n",
      "24               Associated with loose motions  2135.990610\n"
     ]
    }
   ],
   "source": [
    "from sklearn.feature_selection import SelectKBest\n",
    "from sklearn.feature_selection import chi2\n",
    "\n",
    "bestfeatures = SelectKBest(score_func=chi2, k=10)\n",
    "fit = bestfeatures.fit(X,y)\n",
    "dfscores = pd.DataFrame(fit.scores_)\n",
    "dfcolumns = pd.DataFrame(X.columns)\n",
    "#concat two dataframes for better visualization \n",
    "featureScores = pd.concat([dfcolumns,dfscores],axis=1)\n",
    "featureScores.columns = ['Symptom','Score']  #naming the dataframe columns\n",
    "print(featureScores.nlargest(35,'Score'))  #print 10 best feature"
   ]
  },
  {
   "cell_type": "code",
   "execution_count": 69,
   "metadata": {},
   "outputs": [
    {
     "name": "stdout",
     "output_type": "stream",
     "text": [
      "[6.81922839e-04 3.75759173e-03 7.53833786e-02 4.23281727e-02\n",
      " 3.41122744e-02 7.48669160e-02 1.95243394e-02 5.83992085e-03\n",
      " 1.08703922e-02 2.53468806e-03 8.16542671e-03 6.65355958e-03\n",
      " 1.76491127e-02 7.32099278e-02 3.62808509e-03 1.08992640e-02\n",
      " 1.43983151e-02 1.67129586e-02 6.05090324e-02 5.62854158e-03\n",
      " 2.15538769e-02 8.49566313e-02 2.55516736e-02 1.63624887e-02\n",
      " 1.94436033e-03 3.40412365e-03 1.74369127e-02 8.42110654e-02\n",
      " 0.00000000e+00 1.41223082e-03 4.73213561e-03 7.14952691e-02\n",
      " 0.00000000e+00 0.00000000e+00 4.02602450e-05 1.08144011e-02\n",
      " 2.77669363e-03 1.17665238e-04 5.44811321e-04 5.51304842e-04\n",
      " 7.15683825e-02 0.00000000e+00 3.05376277e-02 2.12912767e-02\n",
      " 0.00000000e+00 8.59178395e-03 3.32524914e-03 6.31307711e-03\n",
      " 2.31128779e-02]\n"
     ]
    },
    {
     "data": {
      "image/png": "[encoded data removed]",
      "text/plain": [
       "<Figure size 432x288 with 1 Axes>"
      ]
     },
     "metadata": {
      "needs_background": "light"
     },
     "output_type": "display_data"
    }
   ],
   "source": [
    "from sklearn.ensemble import ExtraTreesClassifier\n",
    "import matplotlib.pyplot as plt\n",
    "model = ExtraTreesClassifier()\n",
    "model.fit(X,y)\n",
    "print(model.feature_importances_) #use inbuilt class feature_importances of tree based classifiers\n",
    "#plot graph of feature importances for better visualization\n",
    "feat_importances = pd.Series(model.feature_importances_, index=X.columns)\n",
    "feat_importances.nlargest(15).plot(kind='barh')\n",
    "plt.show()"
   ]
  },
  {
   "cell_type": "code",
   "execution_count": 34,
   "metadata": {},
   "outputs": [
    {
     "ename": "AttributeError",
     "evalue": "Feature importance is not defined for Booster type None",
     "output_type": "error",
     "traceback": [
      "\u001b[0;31m---------------------------------------------------------------------------\u001b[0m",
      "\u001b[0;31mAttributeError\u001b[0m                            Traceback (most recent call last)",
      "\u001b[0;32m<ipython-input-34-f1d5ad985d29>\u001b[0m in \u001b[0;36m<module>\u001b[0;34m\u001b[0m\n\u001b[1;32m      6\u001b[0m \u001b[0;31m# define the model\u001b[0m\u001b[0;34m\u001b[0m\u001b[0;34m\u001b[0m\u001b[0;34m\u001b[0m\u001b[0m\n\u001b[1;32m      7\u001b[0m \u001b[0mmodel\u001b[0m \u001b[0;34m=\u001b[0m \u001b[0mXGBClassifier\u001b[0m\u001b[0;34m(\u001b[0m\u001b[0;34m)\u001b[0m\u001b[0;34m\u001b[0m\u001b[0;34m\u001b[0m\u001b[0m\n\u001b[0;32m----> 8\u001b[0;31m \u001b[0mfeat_importances\u001b[0m \u001b[0;34m=\u001b[0m \u001b[0mpd\u001b[0m\u001b[0;34m.\u001b[0m\u001b[0mSeries\u001b[0m\u001b[0;34m(\u001b[0m\u001b[0mmodel\u001b[0m\u001b[0;34m.\u001b[0m\u001b[0mfeature_importances_\u001b[0m\u001b[0;34m,\u001b[0m \u001b[0mindex\u001b[0m\u001b[0;34m=\u001b[0m\u001b[0mX\u001b[0m\u001b[0;34m.\u001b[0m\u001b[0mcolumns\u001b[0m\u001b[0;34m)\u001b[0m\u001b[0;34m\u001b[0m\u001b[0;34m\u001b[0m\u001b[0m\n\u001b[0m\u001b[1;32m      9\u001b[0m \u001b[0mfeat_importances\u001b[0m\u001b[0;34m.\u001b[0m\u001b[0mnlargest\u001b[0m\u001b[0;34m(\u001b[0m\u001b[0;36m15\u001b[0m\u001b[0;34m)\u001b[0m\u001b[0;34m.\u001b[0m\u001b[0mplot\u001b[0m\u001b[0;34m(\u001b[0m\u001b[0mkind\u001b[0m\u001b[0;34m=\u001b[0m\u001b[0;34m'barh'\u001b[0m\u001b[0;34m)\u001b[0m\u001b[0;34m\u001b[0m\u001b[0;34m\u001b[0m\u001b[0m\n\u001b[1;32m     10\u001b[0m \u001b[0mplt\u001b[0m\u001b[0;34m.\u001b[0m\u001b[0mshow\u001b[0m\u001b[0;34m(\u001b[0m\u001b[0;34m)\u001b[0m\u001b[0;34m\u001b[0m\u001b[0;34m\u001b[0m\u001b[0m\n",
      "\u001b[0;32m/opt/anaconda3/lib/python3.7/site-packages/xgboost/sklearn.py\u001b[0m in \u001b[0;36mfeature_importances_\u001b[0;34m(self)\u001b[0m\n\u001b[1;32m    684\u001b[0m             raise AttributeError(\n\u001b[1;32m    685\u001b[0m                 \u001b[0;34m'Feature importance is not defined for Booster type {}'\u001b[0m\u001b[0;34m\u001b[0m\u001b[0;34m\u001b[0m\u001b[0m\n\u001b[0;32m--> 686\u001b[0;31m                 .format(self.booster))\n\u001b[0m\u001b[1;32m    687\u001b[0m         \u001b[0mb\u001b[0m \u001b[0;34m=\u001b[0m \u001b[0mself\u001b[0m\u001b[0;34m.\u001b[0m\u001b[0mget_booster\u001b[0m\u001b[0;34m(\u001b[0m\u001b[0;34m)\u001b[0m\u001b[0;34m\u001b[0m\u001b[0;34m\u001b[0m\u001b[0m\n\u001b[1;32m    688\u001b[0m         \u001b[0mscore\u001b[0m \u001b[0;34m=\u001b[0m \u001b[0mb\u001b[0m\u001b[0;34m.\u001b[0m\u001b[0mget_score\u001b[0m\u001b[0;34m(\u001b[0m\u001b[0mimportance_type\u001b[0m\u001b[0;34m=\u001b[0m\u001b[0mself\u001b[0m\u001b[0;34m.\u001b[0m\u001b[0mimportance_type\u001b[0m\u001b[0;34m)\u001b[0m\u001b[0;34m\u001b[0m\u001b[0;34m\u001b[0m\u001b[0m\n",
      "\u001b[0;31mAttributeError\u001b[0m: Feature importance is not defined for Booster type None"
     ]
    }
   ],
   "source": [
    "# xgboost for feature importance on a classification problem\n",
    "from sklearn.datasets import make_classification\n",
    "from xgboost import XGBClassifier\n",
    "from matplotlib import pyplot\n",
    "# define dataset\n",
    "# define the model\n",
    "model = XGBClassifier()\n",
    "feat_importances = pd.Series(model.feature_importances_, index=X.columns)\n",
    "feat_importances.nlargest(15).plot(kind='barh')\n",
    "plt.show()"
   ]
  },
  {
   "cell_type": "code",
   "execution_count": null,
   "metadata": {},
   "outputs": [],
   "source": []
  }
 ],
 "metadata": {
  "kernelspec": {
   "display_name": "Python 3",
   "language": "python",
   "name": "python3"
  },
  "language_info": {
   "codemirror_mode": {
    "name": "ipython",
    "version": 3
   },
   "file_extension": ".py",
   "mimetype": "text/x-python",
   "name": "python",
   "nbconvert_exporter": "python",
   "pygments_lexer": "ipython3",
   "version": "3.7.6"
  }
 },
 "nbformat": 4,
 "nbformat_minor": 2
}
